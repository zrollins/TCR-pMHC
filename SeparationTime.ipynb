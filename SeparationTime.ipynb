{
 "cells": [
  {
   "cell_type": "code",
   "execution_count": 2,
   "metadata": {},
   "outputs": [
    {
     "name": "stdout",
     "output_type": "stream",
     "text": [
      "   L1 (Mutant)  MART1 (WT)  GVA (Mutant)        MART1   MART1 SEM  \\\n",
      "0         4724        4028          4048  3069.666667  857.876901   \n",
      "1        44054        1358          3304  3069.666667  857.876901   \n",
      "2        39915        3823          1920  3069.666667  857.876901   \n",
      "\n",
      "             L1        L1 SEM          GVA     GVA SEM  \n",
      "0  29564.333333  12477.505765  3090.666667  623.492671  \n",
      "1  29564.333333  12477.505765  3090.666667  623.492671  \n",
      "2  29564.333333  12477.505765  3090.666667  623.492671  \n"
     ]
    },
    {
     "data": {
      "image/png": "[encoded data removed]",
      "text/plain": [
       "<Figure size 432x288 with 1 Axes>"
      ]
     },
     "metadata": {
      "needs_background": "light"
     },
     "output_type": "display_data"
    }
   ],
   "source": [
    "import numpy as np\n",
    "import pandas as pd\n",
    "import statistics as st\n",
    "import matplotlib.pyplot as plt\n",
    "\n",
    "M1=[4028,1358,3823]\n",
    "GVA=[4048,3304,1920]\n",
    "L1=[4724,44054,39915]\n",
    "\n",
    "\n",
    "t={'L1 (Mutant)':L1, 'MART1 (WT)':M1,'GVA (Mutant)':GVA}\n",
    "df = pd.DataFrame(t)\n",
    "df['MART1'] = df['MART1 (WT)'].astype(float).mean(axis=0)\n",
    "df['MART1 SEM'] = df['MART1 (WT)'].astype(float).sem(axis=0)\n",
    "df['L1'] = df['L1 (Mutant)'].astype(float).mean(axis=0)\n",
    "df['L1 SEM'] = df['L1 (Mutant)'].astype(float).sem(axis=0)\n",
    "df['GVA'] = df['GVA (Mutant)'].astype(float).mean(axis=0)\n",
    "df['GVA SEM'] = df['GVA (Mutant)'].astype(float).sem(axis=0)\n",
    "print(df)\n",
    "y=['L1','MART1','GVA']\n",
    "color=['purple','magenta','orange']\n",
    "ax = df.plot.bar(y=y,yerr=df[['L1 SEM','MART1 SEM','GVA SEM']].T.values, color=color, rot=0)\n",
    "plt.xlim(-0.5,0.5)\n",
    "plt.xticks(ticks=[], labels= [])\n",
    "plt.xlabel('pMHC',fontname = 'Arial', fontsize=20)\n",
    "plt.ylabel('Time (ps)',fontname = 'Arial', fontsize=20)\n",
    "plt.rc('xtick',labelsize=15)\n",
    "plt.rc('ytick',labelsize=15)\n",
    "plt.title('TCR-pMHC Bond Lifetime (500 pN)',fontname = 'Arial Black', fontsize=20)\n",
    "plt.savefig('/Users/zrollins/Box/DMF5_MART1/septime.png', bbox_inches='tight',dpi=300)"
   ]
  },
  {
   "cell_type": "code",
   "execution_count": null,
   "metadata": {},
   "outputs": [],
   "source": []
  },
  {
   "cell_type": "code",
   "execution_count": null,
   "metadata": {},
   "outputs": [],
   "source": []
  },
  {
   "cell_type": "code",
   "execution_count": null,
   "metadata": {},
   "outputs": [],
   "source": []
  },
  {
   "cell_type": "code",
   "execution_count": null,
   "metadata": {},
   "outputs": [],
   "source": []
  },
  {
   "cell_type": "code",
   "execution_count": null,
   "metadata": {},
   "outputs": [],
   "source": []
  }
 ],
 "metadata": {
  "kernelspec": {
   "display_name": "Python 3",
   "language": "python",
   "name": "python3"
  },
  "language_info": {
   "codemirror_mode": {
    "name": "ipython",
    "version": 3
   },
   "file_extension": ".py",
   "mimetype": "text/x-python",
   "name": "python",
   "nbconvert_exporter": "python",
   "pygments_lexer": "ipython3",
   "version": "3.8.3"
  }
 },
 "nbformat": 4,
 "nbformat_minor": 4
}
